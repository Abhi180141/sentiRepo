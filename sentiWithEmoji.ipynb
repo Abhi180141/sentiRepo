{
  "cells": [
    {
      "cell_type": "code",
      "execution_count": 5,
      "metadata": {
        "colab": {
          "base_uri": "https://localhost:8080/",
          "height": 707
        },
        "id": "JTGEwRvL1cpZ",
        "outputId": "018aa320-8dd5-4b17-fdf3-b75167c78396"
      },
      "outputs": [
        {
          "output_type": "stream",
          "name": "stderr",
          "text": [
            "[nltk_data] Downloading package stopwords to /root/nltk_data...\n",
            "[nltk_data]   Package stopwords is already up-to-date!\n"
          ]
        },
        {
          "output_type": "stream",
          "name": "stdout",
          "text": [
            "              precision    recall  f1-score   support\n",
            "\n",
            "    Negative       0.98      0.98      0.98      1614\n",
            "     Neutral       0.96      0.92      0.94      1614\n",
            "    Positive       0.93      0.96      0.95      1614\n",
            "\n",
            "    accuracy                           0.96      4842\n",
            "   macro avg       0.96      0.96      0.96      4842\n",
            "weighted avg       0.96      0.96      0.96      4842\n",
            "\n"
          ]
        },
        {
          "output_type": "display_data",
          "data": {
            "text/plain": [
              "<Figure size 640x480 with 2 Axes>"
            ],
            "image/png": "[encoded data removed]"
          },
          "metadata": {}
        },
        {
          "output_type": "stream",
          "name": "stdout",
          "text": [
            "✅ Model, label encoder, and vectorizer saved.\n"
          ]
        }
      ],
      "source": [
        "import pandas as pd\n",
        "import numpy as np\n",
        "import re\n",
        "import matplotlib.pyplot as plt\n",
        "import seaborn as sns\n",
        "import nltk\n",
        "from sklearn.model_selection import train_test_split\n",
        "from sklearn.preprocessing import LabelEncoder\n",
        "from sklearn.feature_extraction.text import TfidfVectorizer\n",
        "from sklearn.linear_model import LogisticRegression\n",
        "from sklearn.metrics import classification_report, confusion_matrix\n",
        "from nltk.corpus import stopwords\n",
        "from imblearn.over_sampling import RandomOverSampler\n",
        "import joblib\n",
        "import regex\n",
        "\n",
        "nltk.download('stopwords')\n",
        "\n",
        "# Negation words to keep\n",
        "negation_words = {\n",
        "    \"not\", \"no\", \"nor\", \"don't\", \"didn't\", \"doesn't\", \"hadn't\", \"hasn't\", \"haven't\",\n",
        "    \"isn't\", \"mightn't\", \"mustn't\", \"needn't\", \"shan't\", \"shouldn't\", \"wasn't\",\n",
        "    \"weren't\", \"won't\", \"wouldn't\", \"cannot\", \"can't\", \"couldn't\"\n",
        "}\n",
        "\n",
        "stop_words = set(stopwords.words('english')) - negation_words\n",
        "\n",
        "def handle_negations(text):\n",
        "    text = re.sub(r\"n't\", \" not\", text)\n",
        "    text = re.sub(r\"\\b(not|no|never|cannot|can't|won't|don't|doesn't|didn't|isn't|wasn't|shouldn't|wouldn't|couldn't|haven't|hasn't|hadn't|mustn't|needn't|mightn't|shan't|nor)\\s+(\\w+)\", r\"\\1_\\2\", text)\n",
        "    return text\n",
        "\n",
        "EMOJI_PATTERN = regex.compile(\n",
        "    r'['\n",
        "    r'\\p{Emoji}'  # Unicode property for emoji (requires `regex` module)\n",
        "    r'\\U0001F600-\\U0001F64F'  # Emoticons\n",
        "    r'\\U0001F300-\\U0001F5FF'  # Symbols & pictographs\n",
        "    r'\\U0001F680-\\U0001F6FF'  # Transport & map symbols\n",
        "    r'\\U0001F1E0-\\U0001F1FF'  # Flags\n",
        "    r'\\U00002702-\\U000027B0'  # Dingbats\n",
        "    r'\\U000024C2-\\U0001F251'  # Enclosed characters\n",
        "    r']',\n",
        "    flags=regex.UNICODE\n",
        ")\n",
        "\n",
        "def clean_text(text):\n",
        "    text = text.lower()\n",
        "    text = handle_negations(text)\n",
        "    # Extract emojis\n",
        "    emojis = ''.join(EMOJI_PATTERN.findall(text))\n",
        "\n",
        "    # Remove all non-letter, non-emoji, non-space chars\n",
        "    allowed_pattern = regex.compile(r'[a-z\\s]|' + EMOJI_PATTERN.pattern)\n",
        "    filtered_chars = allowed_pattern.findall(text)\n",
        "    filtered_text = ''.join(filtered_chars)\n",
        "    filtered_text = re.sub(r'\\s+', ' ', filtered_text).strip()\n",
        "\n",
        "    # text = re.sub(r\"[^a-z_\\s]\", \"\", text)\n",
        "    words = text.split()\n",
        "    filtered_words = [word for word in words if word not in stop_words]\n",
        "    return ' '.join(filtered_words)\n",
        "\n",
        "# 1. Read both CSV files\n",
        "df1 = pd.read_csv(\"reviews2.csv\")  # Your original reviews file\n",
        "df2 = pd.read_csv(\"emojiDataset2.csv\")  # Your second reviews file\n",
        "\n",
        "# 2. Standardize column names and select relevant columns\n",
        "df1 = df1[['Reviews', 'Rating']].dropna()\n",
        "df2.columns = [col.strip().capitalize() for col in df2.columns]\n",
        "df2 = df2[['Reviews', 'Rating']].dropna()\n",
        "\n",
        "# 3. Concatenate both DataFrames\n",
        "df = pd.concat([df1, df2], ignore_index=True).reset_index(drop=True)\n",
        "\n",
        "# 4. Map ratings to sentiment\n",
        "def map_rating(r):\n",
        "    if r in [4, 5]: return \"Positive\"\n",
        "    elif r == 3: return \"Neutral\"\n",
        "    else: return \"Negative\"\n",
        "\n",
        "df['Sentiment'] = df['Rating'].apply(map_rating)\n",
        "\n",
        "# 5. Clean the reviews\n",
        "df['Cleaned_Reviews'] = df['Reviews'].apply(clean_text)\n",
        "\n",
        "# 6. Encode sentiment labels\n",
        "le = LabelEncoder()\n",
        "df['Label'] = le.fit_transform(df['Sentiment'])  # 0: Negative, 1: Neutral, 2: Positive\n",
        "\n",
        "# 7. Oversample to balance classes\n",
        "ros = RandomOverSampler(random_state=42)\n",
        "X_res, y_res = ros.fit_resample(df['Cleaned_Reviews'].values.reshape(-1, 1), df['Label'])\n",
        "X_res = X_res.flatten()\n",
        "y_res = y_res\n",
        "\n",
        "# 8. Split into train, val, test\n",
        "X_train, X_temp, y_train, y_temp = train_test_split(X_res, y_res, test_size=0.3, stratify=y_res, random_state=42)\n",
        "X_val, X_test, y_val, y_test = train_test_split(X_temp, y_temp, test_size=0.5, stratify=y_temp, random_state=42)\n",
        "\n",
        "# 9. Vectorize text\n",
        "vectorizer = TfidfVectorizer(ngram_range=(1,2))\n",
        "X_train_vec = vectorizer.fit_transform(X_train)\n",
        "X_val_vec = vectorizer.transform(X_val)\n",
        "X_test_vec = vectorizer.transform(X_test)\n",
        "\n",
        "# 10. Train model\n",
        "clf = LogisticRegression(max_iter=1000, class_weight='balanced', random_state=42)\n",
        "clf.fit(X_train_vec, y_train)\n",
        "\n",
        "# 11. Evaluate on validation set\n",
        "y_pred = clf.predict(X_val_vec)\n",
        "print(classification_report(y_val, y_pred, target_names=le.classes_))\n",
        "\n",
        "cm = confusion_matrix(y_val, y_pred)\n",
        "sns.heatmap(cm, annot=True, fmt='d', xticklabels=le.classes_, yticklabels=le.classes_)\n",
        "plt.title('Confusion Matrix')\n",
        "plt.xlabel('Predicted')\n",
        "plt.ylabel('True')\n",
        "plt.show()\n",
        "\n",
        "# 12. Save model, encoder, and vectorizer\n",
        "joblib.dump(clf, 'best_sentiment_model.pkl')\n",
        "joblib.dump(le, 'label_encoder.pkl')\n",
        "joblib.dump(vectorizer, 'tfidf_vectorizer.pkl')\n",
        "print(\"✅ Model, label encoder, and vectorizer saved.\")\n",
        "\n",
        "# 13. Prediction loop\n",
        "def preprocess_for_prediction(text):\n",
        "    return clean_text(text)\n",
        "\n"
      ]
    },
    {
      "cell_type": "code",
      "source": [
        "clf = joblib.load('best_sentiment_model.pkl')\n",
        "le = joblib.load('label_encoder.pkl')\n",
        "vectorizer = joblib.load('tfidf_vectorizer.pkl')\n",
        "\n",
        "while True:\n",
        "    review = input(\"\\nEnter a review to classify (or type 'exit' to quit): \")\n",
        "    if review.lower() == 'exit':\n",
        "        break\n",
        "    review_clean = preprocess_for_prediction(review)\n",
        "    review_vec = vectorizer.transform([review_clean])\n",
        "    prediction = clf.predict(review_vec)\n",
        "    print(\"Predicted Sentiment:\", le.inverse_transform(prediction)[0])"
      ],
      "metadata": {
        "colab": {
          "base_uri": "https://localhost:8080/"
        },
        "id": "rGFbtwf-LSKi",
        "outputId": "7a281138-cd8c-489e-ddbc-4849645e9904"
      },
      "execution_count": 6,
      "outputs": [
        {
          "name": "stdout",
          "output_type": "stream",
          "text": [
            "\n",
            "Enter a review to classify (or type 'exit' to quit): 👎\n",
            "Predicted Sentiment: Positive\n",
            "\n",
            "Enter a review to classify (or type 'exit' to quit): 😊\n",
            "Predicted Sentiment: Positive\n",
            "\n",
            "Enter a review to classify (or type 'exit' to quit): 👍\n",
            "Predicted Sentiment: Positive\n",
            "\n",
            "Enter a review to classify (or type 'exit' to quit): 😒\n",
            "Predicted Sentiment: Positive\n",
            "\n",
            "Enter a review to classify (or type 'exit' to quit): 😢\n",
            "Predicted Sentiment: Positive\n",
            "\n",
            "Enter a review to classify (or type 'exit' to quit): experience is worst 👎\n",
            "Predicted Sentiment: Negative\n",
            "\n",
            "Enter a review to classify (or type 'exit' to quit): nothing special 😐\n",
            "Predicted Sentiment: Neutral\n",
            "\n",
            "Enter a review to classify (or type 'exit' to quit): i like this 👍\n",
            "Predicted Sentiment: Positive\n",
            "\n",
            "Enter a review to classify (or type 'exit' to quit): i do not like this 👎\n",
            "Predicted Sentiment: Negative\n",
            "\n",
            "Enter a review to classify (or type 'exit' to quit): product is not useful for me 😒\n",
            "Predicted Sentiment: Negative\n",
            "\n",
            "Enter a review to classify (or type 'exit' to quit): exit\n"
          ]
        }
      ]
    }
  ],
  "metadata": {
    "colab": {
      "provenance": []
    },
    "kernelspec": {
      "display_name": "Python 3",
      "name": "python3"
    },
    "language_info": {
      "name": "python"
    }
  },
  "nbformat": 4,
  "nbformat_minor": 0
}